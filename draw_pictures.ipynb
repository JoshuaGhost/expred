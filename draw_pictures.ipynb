{
 "cells": [
  {
   "cell_type": "code",
   "execution_count": null,
   "metadata": {},
   "outputs": [],
   "source": [
    "%load_ext autoreload\n",
    "%autoreload 2"
   ]
  },
  {
   "cell_type": "code",
   "execution_count": null,
   "metadata": {},
   "outputs": [],
   "source": [
    "import matplotlib.pyplot as plt"
   ]
  },
  {
   "cell_type": "code",
   "execution_count": null,
   "metadata": {},
   "outputs": [],
   "source": [
    "training_losses = \"\"\"0.3490\n",
    "0.1790\n",
    "0.1123\n",
    "0.0923\n",
    "0.0834\n",
    "0.0710\n",
    "0.0656\n",
    "0.0594\n",
    "0.0500\n",
    "0.0377\n",
    "\"\"\".split()\n",
    "training_losses = list(map(float, training_losses))\n",
    "val_losses = \"\"\"0.2485\n",
    "0.1899\n",
    "0.2462\n",
    "0.2556\n",
    "0.2939\n",
    "0.3171\n",
    "0.3012\n",
    "0.3250\n",
    "0.3260\n",
    "0.3641\n",
    "\"\"\".split()\n",
    "val_losses = list(map(float, val_losses))"
   ]
  },
  {
   "cell_type": "code",
   "execution_count": null,
   "metadata": {},
   "outputs": [],
   "source": [
    "fig = plt.figure()\n",
    "plt.plot(range(1, 11), training_losses)\n",
    "plt.plot(range(1, 11), val_losses)\n",
    "plt.savefig('learningrate.png')"
   ]
  },
  {
   "cell_type": "code",
   "execution_count": null,
   "metadata": {},
   "outputs": [],
   "source": [
    "exp_output_f1 = ''' 0.2200\n",
    " 0.3193\n",
    " 0.2563\n",
    " 0.0886\n",
    " 0.4175\n",
    " 8.8784e-04\n",
    " 3.9028e-04\n",
    " 5.0959e-05\n",
    " 0.0000e+00\n",
    " 7.1192e-05\n",
    " 0.1875\n",
    " 0.2233\n",
    " 0.3310\n",
    " 0.2753\n",
    " 0.2323\n",
    " 0.2458\n",
    " 0.2385\n",
    " 0.2280\n",
    " 0.3121\n",
    " 0.2221\n",
    " 0.3129\n",
    "'''.split()\n",
    "exp_output_f1 = list(map(float, exp_output_f1))"
   ]
  },
  {
   "cell_type": "code",
   "execution_count": null,
   "metadata": {},
   "outputs": [],
   "source": [
    "cls_output_acc = ''' 0.9347\n",
    " 0.9447\n",
    " 0.8844\n",
    " 0.9095\n",
    " 0.9397\n",
    " 0.9296\n",
    " 0.9447\n",
    " 0.9497\n",
    " 0.9196\n",
    " 0.9296\n",
    " 0.9095\n",
    " 0.9397\n",
    " 0.8693\n",
    " 0.7839\n",
    " 0.6080\n",
    " 0.6583\n",
    " 0.5879\n",
    " 0.6231\n",
    " 0.6633\n",
    " 0.6080\n",
    " 0.6432\n",
    "'''.split()\n",
    "import numpy as np\n",
    "cls_output_acc = np.array(list(map(float, cls_output_acc)))"
   ]
  },
  {
   "cell_type": "code",
   "execution_count": null,
   "metadata": {},
   "outputs": [],
   "source": [
    "list(zip(cls_output_acc, exp_output_f1))"
   ]
  },
  {
   "cell_type": "code",
   "execution_count": null,
   "metadata": {},
   "outputs": [],
   "source": [
    "fig = plt.figure()\n",
    "plt.plot(range(-10, 11, 1), cls_output_acc-0.5, color='b')\n",
    "plt.plot(range(-10, 11, 1), exp_output_f1, color='r')\n",
    "plt.xticks(range(-10, 11, 1))\n",
    "plt.savefig('lambda_sweep.png')"
   ]
  },
  {
   "cell_type": "code",
   "execution_count": null,
   "metadata": {},
   "outputs": [],
   "source": [
    "import json"
   ]
  },
  {
   "cell_type": "code",
   "execution_count": null,
   "metadata": {},
   "outputs": [],
   "source": [
    "import os"
   ]
  },
  {
   "cell_type": "code",
   "execution_count": null,
   "metadata": {},
   "outputs": [],
   "source": [
    "x_range = [0.1, 0.2, 0.5, 1, 2, 5, 10, 20, 50, 100, 200, 500]"
   ]
  },
  {
   "cell_type": "code",
   "execution_count": null,
   "metadata": {},
   "outputs": [],
   "source": [
    "x_range = range(-10, 20)"
   ]
  },
  {
   "cell_type": "code",
   "execution_count": null,
   "metadata": {},
   "outputs": [],
   "source": [
    "raw_data = []\n",
    "for par_lambda in x_range:\n",
    "    \n",
    "    fname = f\"bert_base_seqlen_512_eraser_movie_mtl_exp_output_gru_par_lambda_{par_lambda}_no_padding_imbalanced_bce_resampling_pooling_first_learning_rate_1e-05__test.txt\"\n",
    "    folder = 'eraserbenchmark/outputs/'\n",
    "    fname = os.path.join(folder, fname)\n",
    "    with open(fname, 'r') as fin:\n",
    "        res = eval(fin.read()[1:-1])\n",
    "    raw_data.append(res)"
   ]
  },
  {
   "cell_type": "code",
   "execution_count": null,
   "metadata": {},
   "outputs": [],
   "source": [
    "import math"
   ]
  },
  {
   "cell_type": "code",
   "execution_count": null,
   "metadata": {},
   "outputs": [],
   "source": [
    "metrics = ['accuracy', 'sufficiency', 'comprehensiveness'] \n",
    "baseline = {'accuracy': 0.974, 'sufficiency':  0.035, 'comprehensiveness': 0.113,\n",
    "            'auprc':  0.467, \"iouf1\": 0.124, 'tokenf1': 0.322}\n",
    "color = {'accuracy': 'r', 'sufficiency': 'g', 'comprehensiveness': 'b'}\n",
    "fig, ax = plt.subplots()\n",
    "for metric in metrics:\n",
    "    plt.axhline(y=baseline[metric], color=color[metric], linestyle='-')\n",
    "    ax.plot([math.log(i) for i in x_range], [d['classification_scores'][metric] for d in raw_data], label=metric, color=color[metric])\n",
    "ax.legend()\n",
    "plt.show()"
   ]
  },
  {
   "cell_type": "code",
   "execution_count": null,
   "metadata": {},
   "outputs": [],
   "source": [
    "fig, ax = plt.subplots()\n",
    "ax.plot(x_range, [d['token_soft_metrics']['auprc'] for d in raw_data])\n",
    "#ax.plot(range(-10, 3), [d['token_prf']['instance_macro']['r'] for d in raw_data], label='instance_macro')\n",
    "plt.axhline(y=0.467, color='r', linestyle='-')\n",
    "#ax.legend()\n",
    "plt.show()"
   ]
  },
  {
   "cell_type": "code",
   "execution_count": null,
   "metadata": {},
   "outputs": [],
   "source": [
    "raw_data[0]"
   ]
  }
 ],
 "metadata": {
  "kernelspec": {
   "display_name": "Python 3",
   "language": "python",
   "name": "python3"
  },
  "language_info": {
   "codemirror_mode": {
    "name": "ipython",
    "version": 3
   },
   "file_extension": ".py",
   "mimetype": "text/x-python",
   "name": "python",
   "nbconvert_exporter": "python",
   "pygments_lexer": "ipython3",
   "version": "3.7.3"
  },
  "varInspector": {
   "cols": {
    "lenName": 16,
    "lenType": 16,
    "lenVar": 40
   },
   "kernels_config": {
    "python": {
     "delete_cmd_postfix": "",
     "delete_cmd_prefix": "del ",
     "library": "var_list.py",
     "varRefreshCmd": "print(var_dic_list())"
    },
    "r": {
     "delete_cmd_postfix": ") ",
     "delete_cmd_prefix": "rm(",
     "library": "var_list.r",
     "varRefreshCmd": "cat(var_dic_list()) "
    }
   },
   "types_to_exclude": [
    "module",
    "function",
    "builtin_function_or_method",
    "instance",
    "_Feature"
   ],
   "window_display": false
  }
 },
 "nbformat": 4,
 "nbformat_minor": 2
}
