{
 "cells": [
  {
   "cell_type": "code",
   "execution_count": 1,
   "metadata": {},
   "outputs": [],
   "source": [
    "%load_ext autoreload\n",
    "%autoreload 2"
   ]
  },
  {
   "cell_type": "code",
   "execution_count": 114,
   "metadata": {},
   "outputs": [
    {
     "data": {
      "text/plain": [
       "'1.14.1'"
      ]
     },
     "execution_count": 114,
     "metadata": {},
     "output_type": "execute_result"
    }
   ],
   "source": [
    "import tensorflow as tf\n",
    "tf.__version__"
   ]
  },
  {
   "cell_type": "code",
   "execution_count": 2,
   "metadata": {},
   "outputs": [],
   "source": [
    "import os\n",
    "import matplotlib.pyplot as plt\n",
    "import json\n",
    "import math"
   ]
  },
  {
   "cell_type": "code",
   "execution_count": 148,
   "metadata": {},
   "outputs": [],
   "source": [
    "split = 'val'"
   ]
  },
  {
   "cell_type": "code",
   "execution_count": 208,
   "metadata": {},
   "outputs": [],
   "source": [
    "split = 'train'"
   ]
  },
  {
   "cell_type": "code",
   "execution_count": 4,
   "metadata": {},
   "outputs": [],
   "source": [
    "split = 'test'"
   ]
  },
  {
   "cell_type": "code",
   "execution_count": 92,
   "metadata": {},
   "outputs": [],
   "source": [
    "output_dir = \"eraserbenchmark/outputs/\"\n",
    "img_dir = 'graphics/'\n",
    "color = {'accuracy': 'r', 'sufficiency': 'g', 'comprehensiveness': 'b', 'auprc':'y'}"
   ]
  },
  {
   "cell_type": "code",
   "execution_count": 122,
   "metadata": {},
   "outputs": [],
   "source": [
    "dataset = 'movies'\n",
    "#rnr\n",
    "train_on_portion = 0\n",
    "par_lambdas = [0.001, 0.002, 0.005, 0.01, 0.02, 0.05, 0.1, 0.2, 0.5, 1., 2., 5., 10., 20., 50.]\n",
    "results_dirs = [output_dir + f\"bert_base_seqlen_512_{dataset}_exp_output_rnr_merged_evidences{'_train_on_portion_'+str(train_on_portion) if train_on_portion != 0 else ''}_par_lambda_{par_lambda}_no_padding_imbalanced_bce_resampling_pooling_first_learning_rate_1e-05__{split}.txt\" for par_lambda in par_lambdas]\n",
    "#movies\n",
    "'''\n",
    "#gru\n",
    "par_lambdas = [10**i for i in range(-10, -2)] + [0.01, 0.1, 0.2, 0.5, 1, 2, 5, 10, 20, 50, 100, 200, 500 ] + [10**i for i in range(3, 19)]\n",
    "par_lambdas = [10**i for i in range(-10, 19)]\n",
    "results_dirs = [output_dir + f\"bert_base_seqlen_512_eraser_movie_mtl_exp_output_gru_par_lambda_{par_lambda}_no_padding_imbalanced_bce_resampling_pooling_first_learning_rate_1e-05__test.txt\" for par_lambda in par_lambdas]\n",
    "'''\n",
    "baseline = {'accuracy': 0.974, 'sufficiency':  0.035, 'comprehensiveness': 0.113,\n",
    "            'auprc':  0.467, \"iou_f1\": 0.124, 'token_f1': 0.322}"
   ]
  },
  {
   "cell_type": "code",
   "execution_count": 77,
   "metadata": {},
   "outputs": [],
   "source": [
    "dataset = 'fever'\n",
    "#rnr\n",
    "train_on_portion = 0.1\n",
    "par_lambdas = [0.001, 0.002, 0.005, 0.02, 0.03, 0.05, 0.1, 0.2, 0.5, 1., 2., 5.]\n",
    "results_dirs = [output_dir + f\"bert_base_seqlen_512_{dataset}_exp_output_rnr_merged_evidences{'_train_on_portion_'+str(train_on_portion) if train_on_portion != 0 else ''}_par_lambda_{par_lambda}_no_padding_imbalanced_bce_resampling_pooling_first_learning_rate_1e-05__{split}.txt\" for par_lambda in par_lambdas]\n",
    "\n",
    "#gru\n",
    "train_on_portion = 0.1\n",
    "par_lambdas = [0.1, 0.2, 0.5, 1., 2., 5., 10., 20., 50., 100., 200., 500.]\n",
    "results_dirs = [output_dir + f\"bert_base_seqlen_512_fever_exp_output_gru_merged_evidences_train_on_portion_0.1_par_lambda_{par_lambda}_no_padding_imbalanced_bce_resampling_pooling_first_learning_rate_1e-05__test.txt\" for par_lambda in par_lambdas]\n",
    "\n",
    "baseline = {'accuracy': 0.850, 'sufficiency':  0.077, 'comprehensiveness': 0.070,\n",
    "            'auprc':  0.617, \"iou_f1\": 0.817, 'token_f1': 0.796}\n"
   ]
  },
  {
   "cell_type": "code",
   "execution_count": 143,
   "metadata": {},
   "outputs": [],
   "source": [
    "dataset = 'multirc'\n",
    "#gru\n",
    "train_on_portion = 0.4\n",
    "par_lambdas = [0.1, 0.2, 0.5, 1., 2., 5., 10., 20., 50., 100., 200., 500.]\n",
    "results_dirs = [output_dir + f'bert_base_seqlen_512_multirc_exp_output_gru_merged_evidences_train_on_portion_0.4_par_lambda_{par_lambda}_no_padding_imbalanced_bce_resampling_pooling_first_learning_rate_1e-05__test.txt' for par_lambda in par_lambdas]\n",
    "\n",
    "#rnr\n",
    "train_on_portion = 0.4\n",
    "par_lambdas = [0.001, 0.002, 0.005, 0.01, 0.02, 0.05, 0.1, 0.2, 0.5, 1., 2.]#, 5.]\n",
    "results_dirs = [output_dir + f'bert_base_seqlen_512_multirc_exp_output_rnr_merged_evidences_train_on_portion_0.4_par_lambda_{par_lambda}_no_padding_imbalanced_bce_resampling_pooling_first_learning_rate_1e-05__val.txt' for par_lambda in par_lambdas]\n",
    "\n",
    "baseline = {'accuracy': 0.655,\n",
    "            'sufficiency': 0.079,\n",
    "            'comprehensiveness': 0.164,\n",
    "            'auprc': 0.240,\n",
    "            'iou_f1': 0.419,\n",
    "            \"token_f1\": 0.456}"
   ]
  },
  {
   "cell_type": "code",
   "execution_count": 144,
   "metadata": {},
   "outputs": [],
   "source": [
    "for results_dir in results_dirs:\n",
    "    if not os.path.isfile(results_dir):\n",
    "        print(results_dir)"
   ]
  },
  {
   "cell_type": "code",
   "execution_count": 149,
   "metadata": {},
   "outputs": [
    {
     "data": {
      "image/png": "[encoded data removed]",
      "text/plain": [
       "<Figure size 432x288 with 1 Axes>"
      ]
     },
     "metadata": {
      "needs_background": "light"
     },
     "output_type": "display_data"
    }
   ],
   "source": [
    "metrics = ['accuracy']\n",
    "\n",
    "results = []\n",
    "y = {metric:[] for metric in metrics}\n",
    "for results_dir in results_dirs:\n",
    "    if os.path.isfile(results_dir):\n",
    "        with open(results_dir, 'r') as fin:\n",
    "            r = fin.read()\n",
    "            r = eval(r[1:-1])\n",
    "        results.append(r)\n",
    "        for metric in metrics:\n",
    "            y[metric].append(r['classification_scores'][metric])\n",
    "    else:\n",
    "        for metric in metrics:\n",
    "            y[metric].append(0)\n",
    "            \n",
    "fig, ax = plt.subplots()\n",
    "plt.xticks([math.log(i) for i in par_lambdas], rotation=-45)\n",
    "for metric in metrics:\n",
    "    plt.axhline(y=baseline[metric], color=color[metric], linestyle='-')\n",
    "    ax.plot([math.log(i) for i in par_lambdas], y[metric], label=metric, color=color[metric])\n",
    "plt.ylim([0.5, 1])\n",
    "ax.legend()\n",
    "plt.savefig(img_dir + f'{dataset}_{split}_train_on_portion_{train_on_portion}_accuracy.png')"
   ]
  },
  {
   "cell_type": "code",
   "execution_count": 150,
   "metadata": {},
   "outputs": [
    {
     "data": {
      "image/png": "[encoded data removed]",
      "text/plain": [
       "<Figure size 432x288 with 1 Axes>"
      ]
     },
     "metadata": {
      "needs_background": "light"
     },
     "output_type": "display_data"
    }
   ],
   "source": [
    "metrics = [\"comprehensiveness\", 'sufficiency']\n",
    "\n",
    "results = []\n",
    "y = {metric:[] for metric in metrics}\n",
    "for results_dir in results_dirs:\n",
    "    if os.path.isfile(results_dir):\n",
    "        with open(results_dir, 'r') as fin:\n",
    "            r = fin.read()\n",
    "            r = eval(r[1:-1])\n",
    "        results.append(r)\n",
    "        for metric in metrics:\n",
    "            y[metric].append(r['classification_scores'][metric])\n",
    "    else:\n",
    "        for metric in metrics:\n",
    "            y[metric].append(0)\n",
    "            \n",
    "fig, ax = plt.subplots()\n",
    "plt.xticks([math.log(i) for i in par_lambdas], rotation=-45)\n",
    "for metric in metrics:\n",
    "    plt.axhline(y=baseline[metric], color=color[metric], linestyle='-')\n",
    "    ax.plot([math.log(i) for i in par_lambdas], y[metric], label=metric, color=color[metric])\n",
    "ax.legend()\n",
    "plt.savefig(img_dir + f'{dataset}_{split}_train_on_portion_{train_on_portion}_cs.png')"
   ]
  },
  {
   "cell_type": "code",
   "execution_count": 108,
   "metadata": {},
   "outputs": [
    {
     "ename": "KeyError",
     "evalue": "'token_soft_metrics'",
     "output_type": "error",
     "traceback": [
      "\u001b[0;31m---------------------------------------------------------------------------\u001b[0m",
      "\u001b[0;31mKeyError\u001b[0m                                  Traceback (most recent call last)",
      "\u001b[0;32m<ipython-input-108-f34eb25b680a>\u001b[0m in \u001b[0;36m<module>\u001b[0;34m\u001b[0m\n\u001b[1;32m     10\u001b[0m         \u001b[0mresults\u001b[0m\u001b[0;34m.\u001b[0m\u001b[0mappend\u001b[0m\u001b[0;34m(\u001b[0m\u001b[0mr\u001b[0m\u001b[0;34m)\u001b[0m\u001b[0;34m\u001b[0m\u001b[0;34m\u001b[0m\u001b[0m\n\u001b[1;32m     11\u001b[0m         \u001b[0;32mfor\u001b[0m \u001b[0mmetric\u001b[0m \u001b[0;32min\u001b[0m \u001b[0mmetrics\u001b[0m\u001b[0;34m:\u001b[0m\u001b[0;34m\u001b[0m\u001b[0;34m\u001b[0m\u001b[0m\n\u001b[0;32m---> 12\u001b[0;31m             \u001b[0my\u001b[0m\u001b[0;34m[\u001b[0m\u001b[0mmetric\u001b[0m\u001b[0;34m]\u001b[0m\u001b[0;34m.\u001b[0m\u001b[0mappend\u001b[0m\u001b[0;34m(\u001b[0m\u001b[0mr\u001b[0m\u001b[0;34m[\u001b[0m\u001b[0;34m'token_soft_metrics'\u001b[0m\u001b[0;34m]\u001b[0m\u001b[0;34m[\u001b[0m\u001b[0mmetric\u001b[0m\u001b[0;34m]\u001b[0m\u001b[0;34m)\u001b[0m\u001b[0;34m\u001b[0m\u001b[0;34m\u001b[0m\u001b[0m\n\u001b[0m\u001b[1;32m     13\u001b[0m     \u001b[0;32melse\u001b[0m\u001b[0;34m:\u001b[0m\u001b[0;34m\u001b[0m\u001b[0;34m\u001b[0m\u001b[0m\n\u001b[1;32m     14\u001b[0m         \u001b[0;32mfor\u001b[0m \u001b[0mmetric\u001b[0m \u001b[0;32min\u001b[0m \u001b[0mmetrics\u001b[0m\u001b[0;34m:\u001b[0m\u001b[0;34m\u001b[0m\u001b[0;34m\u001b[0m\u001b[0m\n",
      "\u001b[0;31mKeyError\u001b[0m: 'token_soft_metrics'"
     ]
    }
   ],
   "source": [
    "metrics = ['auprc']\n",
    "\n",
    "results = []\n",
    "y = {metric:[] for metric in metrics}\n",
    "for results_dir in results_dirs:\n",
    "    if os.path.isfile(results_dir):\n",
    "        with open(results_dir, 'r') as fin:\n",
    "            r = fin.read()\n",
    "            r = eval(r[1:-1])\n",
    "        results.append(r)\n",
    "        for metric in metrics:\n",
    "            y[metric].append(r['token_soft_metrics'][metric])\n",
    "    else:\n",
    "        for metric in metrics:\n",
    "            y[metric].append(0)\n",
    "            \n",
    "fig, ax = plt.subplots()\n",
    "plt.xticks([math.log(i) for i in par_lambdas], rotation=-45)\n",
    "for metric in metrics:\n",
    "    plt.axhline(y=baseline[metric], color=color[metric], linestyle='-')\n",
    "    ax.plot([math.log(i) for i in par_lambdas], y[metric], label=metric, color=color[metric])\n",
    "#plt.ylim([0.5, 1])\n",
    "ax.legend()\n",
    "plt.savefig(img_dir + f'{dataset}_{split}_train_on_portion_{train_on_portion}_accuracy.png')"
   ]
  },
  {
   "cell_type": "code",
   "execution_count": 151,
   "metadata": {},
   "outputs": [
    {
     "data": {
      "image/png": "[encoded data removed]",
      "text/plain": [
       "<Figure size 432x288 with 1 Axes>"
      ]
     },
     "metadata": {
      "needs_background": "light"
     },
     "output_type": "display_data"
    }
   ],
   "source": [
    "fig, ax = plt.subplots()\n",
    "plt.xticks([math.log(i) for i in par_lambdas], rotation=-45)\n",
    "plt.axhline(y=baseline['iou_f1'], color='b', linestyle='-')\n",
    "ax.plot([math.log(i) for i in par_lambdas], [results[i]['iou_scores'][0]['macro']['f1']\n",
    "                                             for i in range(len(par_lambdas))], label='iou_f1', color='b')\n",
    "plt.axhline(y=baseline['token_f1'], color='r', linestyle='-')\n",
    "ax.plot([math.log(i) for i in par_lambdas], [results[i]['token_prf']['instance_micro']['f1']\n",
    "                                             for i in range(len(par_lambdas))], label='token_f1', color='r')\n",
    "\n",
    "ax.legend()\n",
    "plt.savefig(img_dir + f'{dataset}_{split}_train_on_portion_{train_on_portion}_iou_token_f1.png')"
   ]
  },
  {
   "cell_type": "code",
   "execution_count": 127,
   "metadata": {},
   "outputs": [
    {
     "data": {
      "text/plain": [
       "{'iou_scores': [{'threshold': 0.5,\n",
       "   'micro': {'p': 0.12857142857142856,\n",
       "    'r': 0.013062409288824383,\n",
       "    'f1': 0.023715415019762848},\n",
       "   'macro': {'p': 0.12012987012987013,\n",
       "    'r': 0.01896447356404342,\n",
       "    'f1': 0.032757618833778354}}],\n",
       " 'rationale_prf': {'instance_micro': {'p': 0.004761904761904762,\n",
       "   'r': 0.0004837929366231253,\n",
       "   'f1': 0.0008783487044356608},\n",
       "  'instance_macro': {'p': 0.002512562814070352,\n",
       "   'r': 0.0010050251256281408,\n",
       "   'f1': 0.0014357501794687727}},\n",
       " 'token_prf': {'instance_micro': {'p': 0.40316175053017156,\n",
       "   'r': 0.21816057419462528,\n",
       "   'f1': 0.2831187468692038},\n",
       "  'instance_macro': {'p': 0.3460435134672575,\n",
       "   'r': 0.23871916094322326,\n",
       "   'f1': 0.23986496817289923}},\n",
       " 'classification_scores': {'accuracy': 0.8743718592964824,\n",
       "  'prf': {'NEG': {'precision': 0.9411764705882353,\n",
       "    'recall': 0.8,\n",
       "    'f1-score': 0.8648648648648648,\n",
       "    'support': 100},\n",
       "   'POS': {'precision': 0.8245614035087719,\n",
       "    'recall': 0.9494949494949495,\n",
       "    'f1-score': 0.8826291079812207,\n",
       "    'support': 99},\n",
       "   'micro avg': {'precision': 0.8743718592964824,\n",
       "    'recall': 0.8743718592964824,\n",
       "    'f1-score': 0.8743718592964824,\n",
       "    'support': 199},\n",
       "   'macro avg': {'precision': 0.8828689370485037,\n",
       "    'recall': 0.8747474747474748,\n",
       "    'f1-score': 0.8737469864230427,\n",
       "    'support': 199},\n",
       "   'weighted avg': {'precision': 0.8831619397296078,\n",
       "    'recall': 0.8743718592964824,\n",
       "    'f1-score': 0.8737023526463684,\n",
       "    'support': 199}},\n",
       "  'comprehensiveness': 0.119026296,\n",
       "  'sufficiency': 0.25943512,\n",
       "  'comprehensiveness_entropy': -0.061807822,\n",
       "  'comprehensiveness_kl': 0.19491746,\n",
       "  'sufficiency_entropy': -0.048596118,\n",
       "  'sufficiency_kl': 0.6774499,\n",
       "  'cs_f1': 0.16318493861856795}}"
      ]
     },
     "execution_count": 127,
     "metadata": {},
     "output_type": "execute_result"
    }
   ],
   "source": [
    "results[-4]"
   ]
  }
 ],
 "metadata": {
  "kernelspec": {
   "display_name": "Python 3",
   "language": "python",
   "name": "python3"
  },
  "language_info": {
   "codemirror_mode": {
    "name": "ipython",
    "version": 3
   },
   "file_extension": ".py",
   "mimetype": "text/x-python",
   "name": "python",
   "nbconvert_exporter": "python",
   "pygments_lexer": "ipython3",
   "version": "3.7.3"
  },
  "varInspector": {
   "cols": {
    "lenName": 16,
    "lenType": 16,
    "lenVar": 40
   },
   "kernels_config": {
    "python": {
     "delete_cmd_postfix": "",
     "delete_cmd_prefix": "del ",
     "library": "var_list.py",
     "varRefreshCmd": "print(var_dic_list())"
    },
    "r": {
     "delete_cmd_postfix": ") ",
     "delete_cmd_prefix": "rm(",
     "library": "var_list.r",
     "varRefreshCmd": "cat(var_dic_list()) "
    }
   },
   "types_to_exclude": [
    "module",
    "function",
    "builtin_function_or_method",
    "instance",
    "_Feature"
   ],
   "window_display": false
  }
 },
 "nbformat": 4,
 "nbformat_minor": 2
}
